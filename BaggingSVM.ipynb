{
 "cells": [
  {
   "cell_type": "code",
   "execution_count": 19,
   "metadata": {},
   "outputs": [],
   "source": [
    "from tensorflow import keras\n",
    "import matplotlib.pyplot as plt\n",
    "import tensorflow as tf\n",
    "from tensorflow.keras.datasets import mnist\n",
    "import elasticdeform\n",
    "from sklearn.model_selection import train_test_split"
   ]
  },
  {
   "cell_type": "code",
   "execution_count": 24,
   "metadata": {},
   "outputs": [],
   "source": [
    "from sklearn import datasets\n",
    "from sklearn.model_selection import train_test_split\n",
    "from sklearn.svm import OneClassSVM , SVC\n",
    "from sklearn.metrics import accuracy_score\n",
    "import numpy as np\n",
    "from sklearn.multiclass import OneVsRestClassifier\n"
   ]
  },
  {
   "cell_type": "code",
   "execution_count": 32,
   "metadata": {},
   "outputs": [],
   "source": [
    "(x_train, y_train), (x_test, y_test) = mnist.load_data()"
   ]
  },
  {
   "cell_type": "code",
   "execution_count": 33,
   "metadata": {},
   "outputs": [],
   "source": [
    "# Split the data into training and testing sets\n",
    "X_train, X_test, y_train, y_test = train_test_split(x_train, y_train, test_size=0.2, random_state=42)\n",
    "\n",
    "X_test = X_test.reshape(12000, -1)\n",
    "n_svms = 40\n",
    "svms = []"
   ]
  },
  {
   "cell_type": "code",
   "execution_count": 36,
   "metadata": {},
   "outputs": [
    {
     "name": "stdout",
     "output_type": "stream",
     "text": [
      "(48000, 784)\n"
     ]
    }
   ],
   "source": [
    "for i in range(n_svms):\n",
    "\n",
    "    # Create a bootstrap sample\n",
    "    indices = np.random.choice(len(X_train), size=len(X_train), replace=True)\n",
    "    X_bootstrap = X_train[indices].reshape(48000, -1)\n",
    "    y_bootstrap = y_train[indices]\n",
    "\n",
    "    print(X_bootstrap.shape)\n",
    "    # Train an SVM model\n",
    "    svm = OneVsRestClassifier(SVC(kernel='linear'))\n",
    "    svm.fit(X_bootstrap, y_bootstrap)\n",
    "\n",
    "    # Store the SVM\n",
    "    svms.append(svm)\n",
    "\n",
    "# Inference: Classify new data based on the overall most votes\n",
    "def classify(data):\n",
    "    # Count the votes for each class\n",
    "    votes = np.zeros(n_svms)\n",
    "    for i in range(n_svms):\n",
    "        svm = svms[i]\n",
    "        votes[i] = svm.predict([data])\n",
    "\n",
    "    # Select the class with the maximum votes\n",
    "    most_votes_class = np.argmax(votes)\n",
    "    return most_votes_class\n",
    "\n",
    "# Evaluate on the testing dataset\n",
    "\n",
    "predictions = np.zeros(len(X_test))\n",
    "\n",
    "for i in range(len(X_test)):\n",
    "    predictions[i] = classify(X_test[i])\n",
    "\n",
    "# Calculate accuracy\n",
    "accuracy = accuracy_score(y_test, predictions)\n",
    "print(f\"Accuracy: {accuracy}\")"
   ]
  }
 ],
 "metadata": {
  "kernelspec": {
   "display_name": "scipy",
   "language": "python",
   "name": "python3"
  },
  "language_info": {
   "codemirror_mode": {
    "name": "ipython",
    "version": 3
   },
   "file_extension": ".py",
   "mimetype": "text/x-python",
   "name": "python",
   "nbconvert_exporter": "python",
   "pygments_lexer": "ipython3",
   "version": "3.10.4"
  },
  "orig_nbformat": 4
 },
 "nbformat": 4,
 "nbformat_minor": 2
}
